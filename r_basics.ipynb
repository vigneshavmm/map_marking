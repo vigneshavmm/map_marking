{
  "nbformat": 4,
  "nbformat_minor": 0,
  "metadata": {
    "colab": {
      "provenance": [],
      "gpuType": "T4",
      "authorship_tag": "ABX9TyP9lVWgYVuOzz/g7qfnLBx+",
      "include_colab_link": true
    },
    "kernelspec": {
      "name": "ir",
      "display_name": "R"
    },
    "language_info": {
      "name": "R"
    },
    "accelerator": "GPU"
  },
  "cells": [
    {
      "cell_type": "markdown",
      "metadata": {
        "id": "view-in-github",
        "colab_type": "text"
      },
      "source": [
        "<a href=\"https://colab.research.google.com/github/vigneshavmm/mini_projects/blob/main/r_basics.ipynb\" target=\"_parent\"><img src=\"https://colab.research.google.com/assets/colab-badge.svg\" alt=\"Open In Colab\"/></a>"
      ]
    },
    {
      "cell_type": "code",
      "execution_count": null,
      "metadata": {
        "colab": {
          "base_uri": "https://localhost:8080/",
          "height": 104
        },
        "id": "L6E8pZ1uqIIW",
        "outputId": "fca9c823-4649-466c-d645-b6dcd8974391"
      },
      "outputs": [
        {
          "output_type": "display_data",
          "data": {
            "text/plain": [
              "\n",
              " 556.78  578.76  659.88  665.46  718.98   731.1  844.55  862.21  898.66  974.81 \n",
              "      1       1       1       1       1       1       1       1       1       1 \n",
              " 990.55 1150.71 1158.88 1178.66  1205.4 1229.52 1336.67 1399.04 1679.74 \n",
              "      1       1       1       1       1       1       1       1       1 "
            ]
          },
          "metadata": {}
        }
      ],
      "source": [
        "a<- read.csv(\"/content/Data1.csv\", stringsAsFactors=FALSE, na.strings = \".\")\n",
        "\n",
        "# Table for DATA\n",
        "table(a$CANADA)"
      ]
    },
    {
      "cell_type": "code",
      "source": [
        "# Sample data frame\n",
        "data <- data.frame(\n",
        "  rollno = c(1, 5, 4, 2, 3, 7, 9, 8, 10, 6),\n",
        "  subjects = c(\"jay\", \"priya\", \"siva\", \"sai\", \"abi\", \"bala\", \"zara\", \"john\", \"arun\", \"vani\"))\n",
        "\n",
        "# Sort the data frame in decreasing order based on subjects\n",
        "sorted_data <- data.frame(\n",
        "  rollno = data$rollno[order(data$subjects, decreasing = TRUE)],\n",
        "  subjects = data$subjects[order(data$subjects, decreasing = TRUE)])\n",
        "\n",
        "# Print the sorted data frame\n",
        "print(sorted_data)"
      ],
      "metadata": {
        "colab": {
          "base_uri": "https://localhost:8080/"
        },
        "id": "_n4SAY0brYYT",
        "outputId": "bd662d8b-447c-47b9-c921-516d7403175d"
      },
      "execution_count": null,
      "outputs": [
        {
          "output_type": "stream",
          "name": "stdout",
          "text": [
            "   rollno subjects\n",
            "1       9     zara\n",
            "2       6     vani\n",
            "3       4     siva\n",
            "4       2      sai\n",
            "5       5    priya\n",
            "6       8     john\n",
            "7       1      jay\n",
            "8       7     bala\n",
            "9      10     arun\n",
            "10      3      abi\n"
          ]
        }
      ]
    },
    {
      "cell_type": "code",
      "source": [
        "# R Program to combine two lists\n",
        "\n",
        "# Creating Lists using the list() function\n",
        "List1 <- list(1, 2, 3)\n",
        "List2 <- list('a', 'b', 'c')\n",
        "\n",
        "print(List1)\n",
        "print(List2)\n",
        "\n",
        "# Combining lists using c() function\n",
        "List3 = c(List1, List2)\n",
        "print(List3)"
      ],
      "metadata": {
        "colab": {
          "base_uri": "https://localhost:8080/"
        },
        "id": "wqJJICPzu-gM",
        "outputId": "0242fb9d-8e46-4b03-b2f6-ee75bbbcbd3c"
      },
      "execution_count": null,
      "outputs": [
        {
          "output_type": "stream",
          "name": "stdout",
          "text": [
            "[[1]]\n",
            "[1] 1\n",
            "\n",
            "[[2]]\n",
            "[1] 2\n",
            "\n",
            "[[3]]\n",
            "[1] 3\n",
            "\n",
            "[[1]]\n",
            "[1] \"a\"\n",
            "\n",
            "[[2]]\n",
            "[1] \"b\"\n",
            "\n",
            "[[3]]\n",
            "[1] \"c\"\n",
            "\n",
            "[[1]]\n",
            "[1] 1\n",
            "\n",
            "[[2]]\n",
            "[1] 2\n",
            "\n",
            "[[3]]\n",
            "[1] 3\n",
            "\n",
            "[[4]]\n",
            "[1] \"a\"\n",
            "\n",
            "[[5]]\n",
            "[1] \"b\"\n",
            "\n",
            "[[6]]\n",
            "[1] \"c\"\n",
            "\n"
          ]
        }
      ]
    },
    {
      "cell_type": "code",
      "source": [
        "data <- c(1, 2, 3, 1, 2, 3, 1, 2, 3)\n",
        "A <- matrix(data, nrow = 3, ncol = 3)\n",
        "\n",
        "data <- c(3, 2, 1, 3, 2, 1, 3, 2, 1)\n",
        "B <- matrix(data, nrow = 3, ncol = 3)\n",
        "\n",
        "AB <- A %*% B\n",
        "\n",
        "print(\"Matrix A\")\n",
        "print(A)\n",
        "print(\"Matrix B\")\n",
        "print(B)\n",
        "print(\"Matrix Multiplication Result\")\n",
        "print(AB)"
      ],
      "metadata": {
        "colab": {
          "base_uri": "https://localhost:8080/"
        },
        "id": "jtzKf5aOvHpy",
        "outputId": "a0eff544-1675-4cb2-d21f-58f09b24eaa1"
      },
      "execution_count": null,
      "outputs": [
        {
          "output_type": "stream",
          "name": "stdout",
          "text": [
            "[1] \"Matrix A\"\n",
            "     [,1] [,2] [,3]\n",
            "[1,]    1    1    1\n",
            "[2,]    2    2    2\n",
            "[3,]    3    3    3\n",
            "[1] \"Matrix B\"\n",
            "     [,1] [,2] [,3]\n",
            "[1,]    3    3    3\n",
            "[2,]    2    2    2\n",
            "[3,]    1    1    1\n",
            "[1] \"Matrix Multiplication Result\"\n",
            "     [,1] [,2] [,3]\n",
            "[1,]    6    6    6\n",
            "[2,]   12   12   12\n",
            "[3,]   18   18   18\n"
          ]
        }
      ]
    }
  ]
}