{
  "nbformat": 4,
  "nbformat_minor": 0,
  "metadata": {
    "colab": {
      "provenance": [],
      "authorship_tag": "ABX9TyPFNg0HrvsqNdJNvGYWf3my",
      "include_colab_link": true
    },
    "kernelspec": {
      "name": "python3",
      "display_name": "Python 3"
    },
    "language_info": {
      "name": "python"
    }
  },
  "cells": [
    {
      "cell_type": "markdown",
      "metadata": {
        "id": "view-in-github",
        "colab_type": "text"
      },
      "source": [
        "<a href=\"https://colab.research.google.com/github/vigneshavmm/mini_projects/blob/main/Covid_19_vaccine_tracker.ipynb\" target=\"_parent\"><img src=\"https://colab.research.google.com/assets/colab-badge.svg\" alt=\"Open In Colab\"/></a>"
      ]
    },
    {
      "cell_type": "code",
      "execution_count": 1,
      "metadata": {
        "id": "g-H_oP_sgVOh"
      },
      "outputs": [],
      "source": [
        "import requests\n",
        "from bs4 import BeautifulSoup"
      ]
    },
    {
      "cell_type": "code",
      "source": [
        "def getdata(url):\n",
        "    r = requests.get(url)\n",
        "    return r.text"
      ],
      "metadata": {
        "id": "ZDstsWvpggMv"
      },
      "execution_count": 2,
      "outputs": []
    },
    {
      "cell_type": "code",
      "source": [
        "htmldata=getdata(\"https://covid-19tracker.milkeninstitute.org/\")\n",
        "soup=BeautifulSoup(htmldata,'html.parser')\n",
        "result = str(soup.find_all(\"div\",class_=\"is_h5-2 is_developer w-ricktext\"))"
      ],
      "metadata": {
        "id": "tTh6hLvxhBvg"
      },
      "execution_count": 3,
      "outputs": []
    },
    {
      "cell_type": "code",
      "source": [
        "print(\"NO 1\" + result[46:86])"
      ],
      "metadata": {
        "colab": {
          "base_uri": "https://localhost:8080/"
        },
        "id": "xisfHwNLh4dY",
        "outputId": "c0ab1709-bb1b-4b53-d54b-a5137a59bb44"
      },
      "execution_count": 5,
      "outputs": [
        {
          "output_type": "stream",
          "name": "stdout",
          "text": [
            "NO 1\n"
          ]
        }
      ]
    }
  ]
}