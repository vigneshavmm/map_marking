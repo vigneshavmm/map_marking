{
  "nbformat": 4,
  "nbformat_minor": 0,
  "metadata": {
    "colab": {
      "provenance": [],
      "authorship_tag": "ABX9TyPJpvS3daDjLGUkxPnzNC4u",
      "include_colab_link": true
    },
    "kernelspec": {
      "name": "python3",
      "display_name": "Python 3"
    },
    "language_info": {
      "name": "python"
    }
  },
  "cells": [
    {
      "cell_type": "markdown",
      "metadata": {
        "id": "view-in-github",
        "colab_type": "text"
      },
      "source": [
        "<a href=\"https://colab.research.google.com/github/vigneshavmm/mini_projects/blob/main/file_zipper.ipynb\" target=\"_parent\"><img src=\"https://colab.research.google.com/assets/colab-badge.svg\" alt=\"Open In Colab\"/></a>"
      ]
    },
    {
      "cell_type": "code",
      "execution_count": null,
      "metadata": {
        "colab": {
          "base_uri": "https://localhost:8080/"
        },
        "id": "0gqBsJBme3Ds",
        "outputId": "dc9ead2d-3d8d-4102-85ad-e27d822ce586"
      },
      "outputs": [
        {
          "output_type": "stream",
          "name": "stdout",
          "text": [
            "<module 'zipfile' from '/usr/lib/python3.10/zipfile.py'>\n"
          ]
        }
      ],
      "source": [
        "import zipfile\n",
        "\n",
        "def create_zip(files, zip_name):\n",
        "    with zipfile.ZipFile(zip_name, 'w') as zipf:\n",
        "        for file in files:\n",
        "            zipf.write(file)\n",
        "\n",
        "# List of files to be zipped\n",
        "files_to_zip = ['/content/vigneshresume.docx']\n",
        "\n",
        "# Name of the resulting ZIP archive\n",
        "zip_name = 'archive.zip'\n",
        "\n",
        "# Create the ZIP archive\n",
        "create_zip(files_to_zip, zip_name)\n",
        "\n",
        "print(zipfile)\n"
      ]
    },
    {
      "cell_type": "code",
      "source": [
        "import zipfile\n",
        "\n",
        "def print_zip_contents(zip_name):\n",
        "    with zipfile.ZipFile(zip_name, 'r') as zipf:\n",
        "        zipf.printdir()\n",
        "\n",
        "# Name of the ZIP archive\n",
        "zip_name = '/content/vigneshresume.docx'\n",
        "\n",
        "# Print the contents of the ZIP archive\n",
        "print_zip_contents(zip_name)\n"
      ],
      "metadata": {
        "colab": {
          "base_uri": "https://localhost:8080/"
        },
        "id": "TR5eYcNkgLv1",
        "outputId": "e7f498b1-a084-46bd-dc20-39ab3e9c7c03"
      },
      "execution_count": null,
      "outputs": [
        {
          "output_type": "stream",
          "name": "stdout",
          "text": [
            "File Name                                             Modified             Size\n",
            "[Content_Types].xml                            1980-01-01 00:00:00         1629\n",
            "_rels/.rels                                    1980-01-01 00:00:00          590\n",
            "word/_rels/document.xml.rels                   1980-01-01 00:00:00         1978\n",
            "word/document.xml                              1980-01-01 00:00:00        99485\n",
            "word/theme/theme1.xml                          1980-01-01 00:00:00         6824\n",
            "word/media/image1.jpeg                         1980-01-01 00:00:00        11433\n",
            "word/settings.xml                              1980-01-01 00:00:00         4517\n",
            "word/styles.xml                                1980-01-01 00:00:00        50143\n",
            "word/numbering.xml                             1980-01-01 00:00:00        21027\n",
            "customXml/_rels/item1.xml.rels                 1980-01-01 00:00:00          296\n",
            "customXml/itemProps1.xml                       1980-01-01 00:00:00          341\n",
            "customXml/item1.xml                            1980-01-01 00:00:00          254\n",
            "docProps/core.xml                              1980-01-01 00:00:00          796\n",
            "word/fontTable.xml                             1980-01-01 00:00:00         2862\n",
            "word/webSettings.xml                           1980-01-01 00:00:00         1332\n",
            "docProps/app.xml                               1980-01-01 00:00:00         1091\n"
          ]
        }
      ]
    }
  ]
}